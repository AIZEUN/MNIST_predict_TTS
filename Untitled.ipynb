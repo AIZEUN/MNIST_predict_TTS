{
 "cells": [
  {
   "cell_type": "markdown",
   "id": "989855a5",
   "metadata": {},
   "source": [
    "# 사용하는패키지"
   ]
  },
  {
   "cell_type": "code",
   "execution_count": 1,
   "id": "a549c0db",
   "metadata": {},
   "outputs": [],
   "source": [
    "from keras.datasets import mnist\n",
    "from keras.utils import np_utils\n",
    "from keras.models import Sequential\n",
    "from keras.layers import Dense, Dropout, Flatten, Conv2D, MaxPooling2D\n",
    "from keras.callbacks import ModelCheckpoint,EarlyStopping\n",
    "from gtts import gTTS\n",
    "import numpy\n",
    "import os\n",
    "import tensorflow as tf"
   ]
  },
  {
   "cell_type": "markdown",
   "id": "f3bab36f",
   "metadata": {},
   "source": [
    "# CNN 알고리즘"
   ]
  },
  {
   "cell_type": "code",
   "execution_count": 2,
   "id": "dea17a7b",
   "metadata": {},
   "outputs": [
    {
     "name": "stdout",
     "output_type": "stream",
     "text": [
      "\n",
      "Epoch 00001: val_loss improved from inf to 0.05286, saving model to ./model\\01-0.0529.hdf5\n",
      "\n",
      "Epoch 00002: val_loss improved from 0.05286 to 0.03870, saving model to ./model\\02-0.0387.hdf5\n",
      "\n",
      "Epoch 00003: val_loss improved from 0.03870 to 0.03621, saving model to ./model\\03-0.0362.hdf5\n",
      "\n",
      "Epoch 00004: val_loss improved from 0.03621 to 0.03112, saving model to ./model\\04-0.0311.hdf5\n",
      "\n",
      "Epoch 00005: val_loss did not improve from 0.03112\n",
      "\n",
      "Epoch 00006: val_loss improved from 0.03112 to 0.03009, saving model to ./model\\06-0.0301.hdf5\n",
      "\n",
      "Epoch 00007: val_loss did not improve from 0.03009\n",
      "\n",
      "Epoch 00008: val_loss improved from 0.03009 to 0.02902, saving model to ./model\\08-0.0290.hdf5\n",
      "\n",
      "Epoch 00009: val_loss improved from 0.02902 to 0.02559, saving model to ./model\\09-0.0256.hdf5\n",
      "\n",
      "Epoch 00010: val_loss did not improve from 0.02559\n",
      "\n",
      "Epoch 00011: val_loss did not improve from 0.02559\n",
      "\n",
      "Epoch 00012: val_loss did not improve from 0.02559\n",
      "\n",
      "Epoch 00013: val_loss improved from 0.02559 to 0.02362, saving model to ./model\\13-0.0236.hdf5\n",
      "\n",
      "Epoch 00014: val_loss did not improve from 0.02362\n",
      "\n",
      "Epoch 00015: val_loss did not improve from 0.02362\n",
      "\n",
      "Epoch 00016: val_loss did not improve from 0.02362\n",
      "\n",
      "Epoch 00017: val_loss did not improve from 0.02362\n",
      "\n",
      "Epoch 00018: val_loss did not improve from 0.02362\n",
      "313/313 [==============================] - 3s 9ms/step - loss: 0.0237 - accuracy: 0.9922\n",
      "\n",
      " Test Accuracy: 0.9922\n"
     ]
    },
    {
     "data": {
      "text/plain": [
       "(array([7, 2, 1, 0, 4, 1, 4, 9, 5, 9], dtype=int64),\n",
       " array([[0., 0., 0., 0., 0., 0., 0., 1., 0., 0.],\n",
       "        [0., 0., 1., 0., 0., 0., 0., 0., 0., 0.],\n",
       "        [0., 1., 0., 0., 0., 0., 0., 0., 0., 0.],\n",
       "        [1., 0., 0., 0., 0., 0., 0., 0., 0., 0.],\n",
       "        [0., 0., 0., 0., 1., 0., 0., 0., 0., 0.],\n",
       "        [0., 1., 0., 0., 0., 0., 0., 0., 0., 0.],\n",
       "        [0., 0., 0., 0., 1., 0., 0., 0., 0., 0.],\n",
       "        [0., 0., 0., 0., 0., 0., 0., 0., 0., 1.],\n",
       "        [0., 0., 0., 0., 0., 1., 0., 0., 0., 0.],\n",
       "        [0., 0., 0., 0., 0., 0., 0., 0., 0., 1.]], dtype=float32))"
      ]
     },
     "execution_count": 2,
     "metadata": {},
     "output_type": "execute_result"
    }
   ],
   "source": [
    "# seed 값 설정\n",
    "seed = 0\n",
    "numpy.random.seed(seed)\n",
    "tf.random.set_seed(3)\n",
    "\n",
    "# 데이터 불러오기\n",
    "(X_train, Y_train), (X_test, Y_test) = mnist.load_data()\n",
    "X_train = X_train.reshape(X_train.shape[0], 28, 28, 1).astype('float32') / 255\n",
    "X_test = X_test.reshape(X_test.shape[0], 28, 28, 1).astype('float32') / 255\n",
    "Y_train = np_utils.to_categorical(Y_train)\n",
    "Y_test = np_utils.to_categorical(Y_test)\n",
    "\n",
    "# 컨볼루션 신경망의 설정\n",
    "model = Sequential()\n",
    "model.add(Conv2D(32, kernel_size=(3, 3), input_shape=(28, 28, 1), activation='relu',padding='valid'))\n",
    "model.add(Conv2D(64, (3, 3), activation='relu',padding='valid'))\n",
    "model.add(MaxPooling2D(pool_size=2))\n",
    "model.add(Dropout(0.5))\n",
    "model.add(Flatten())\n",
    "model.add(Dense(128,  activation='relu'))\n",
    "model.add(Dropout(0.5))\n",
    "model.add(Dense(10, activation='softmax'))\n",
    "\n",
    "model.compile(loss='categorical_crossentropy',\n",
    "              optimizer='adam',\n",
    "              metrics=['accuracy'])\n",
    "\n",
    "# 모델 최적화 설정\n",
    "MODEL_DIR = './model/'\n",
    "if not os.path.exists(MODEL_DIR):\n",
    "    os.mkdir(MODEL_DIR)\n",
    "\n",
    "modelpath=\"./model/{epoch:02d}-{val_loss:.4f}.hdf5\"\n",
    "checkpointer = ModelCheckpoint(filepath=modelpath, monitor='val_loss', verbose=1, save_best_only=True)\n",
    "early_stopping_callback = EarlyStopping(monitor='val_loss', patience=5)\n",
    "\n",
    "# 모델의 실행\n",
    "history = model.fit(X_train, Y_train, validation_data=(X_test, Y_test), epochs=30, batch_size=100, verbose=0, \n",
    "                    callbacks=[early_stopping_callback,checkpointer])\n",
    "\n",
    "# 테스트 정확도 출력\n",
    "print(\"\\n Test Accuracy: %.4f\" % (model.evaluate(X_test, Y_test)[1]))\n",
    "\n",
    "#모델 예측\n",
    "predict = model.predict(X_test)\n",
    "labels = numpy.argmax(predict, axis = 1)\n",
    "labels[:10], Y_test[:10]"
   ]
  },
  {
   "cell_type": "markdown",
   "id": "3ff05b01",
   "metadata": {},
   "source": [
    "# TTS"
   ]
  },
  {
   "cell_type": "code",
   "execution_count": 6,
   "id": "3e8fd60c",
   "metadata": {},
   "outputs": [],
   "source": [
    "tts= gTTS(text = str(labels[:10]),lang='ko',slow=False)\n",
    "tts.save('mnist.mp3')"
   ]
  },
  {
   "cell_type": "code",
   "execution_count": 5,
   "id": "23506bf0",
   "metadata": {},
   "outputs": [
    {
     "name": "stdout",
     "output_type": "stream",
     "text": [
      "Model: \"sequential\"\n",
      "_________________________________________________________________\n",
      "Layer (type)                 Output Shape              Param #   \n",
      "=================================================================\n",
      "conv2d (Conv2D)              (None, 26, 26, 32)        320       \n",
      "_________________________________________________________________\n",
      "conv2d_1 (Conv2D)            (None, 24, 24, 64)        18496     \n",
      "_________________________________________________________________\n",
      "max_pooling2d (MaxPooling2D) (None, 12, 12, 64)        0         \n",
      "_________________________________________________________________\n",
      "dropout (Dropout)            (None, 12, 12, 64)        0         \n",
      "_________________________________________________________________\n",
      "flatten (Flatten)            (None, 9216)              0         \n",
      "_________________________________________________________________\n",
      "dense (Dense)                (None, 128)               1179776   \n",
      "_________________________________________________________________\n",
      "dropout_1 (Dropout)          (None, 128)               0         \n",
      "_________________________________________________________________\n",
      "dense_1 (Dense)              (None, 10)                1290      \n",
      "=================================================================\n",
      "Total params: 1,199,882\n",
      "Trainable params: 1,199,882\n",
      "Non-trainable params: 0\n",
      "_________________________________________________________________\n"
     ]
    }
   ],
   "source": [
    "model.summary()"
   ]
  }
 ],
 "metadata": {
  "kernelspec": {
   "display_name": "Python 3",
   "language": "python",
   "name": "python3"
  },
  "language_info": {
   "codemirror_mode": {
    "name": "ipython",
    "version": 3
   },
   "file_extension": ".py",
   "mimetype": "text/x-python",
   "name": "python",
   "nbconvert_exporter": "python",
   "pygments_lexer": "ipython3",
   "version": "3.8.8"
  }
 },
 "nbformat": 4,
 "nbformat_minor": 5
}
